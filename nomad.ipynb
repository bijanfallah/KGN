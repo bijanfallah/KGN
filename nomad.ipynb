{
 "cells": [
  {
   "cell_type": "code",
   "execution_count": 84,
   "metadata": {},
   "outputs": [
    {
     "name": "stdout",
     "output_type": "stream",
     "text": [
      "(2400, 14)\n"
     ]
    },
    {
     "data": {
      "text/html": [
       "<div>\n",
       "<style scoped>\n",
       "    .dataframe tbody tr th:only-of-type {\n",
       "        vertical-align: middle;\n",
       "    }\n",
       "\n",
       "    .dataframe tbody tr th {\n",
       "        vertical-align: top;\n",
       "    }\n",
       "\n",
       "    .dataframe thead th {\n",
       "        text-align: right;\n",
       "    }\n",
       "</style>\n",
       "<table border=\"1\" class=\"dataframe\">\n",
       "  <thead>\n",
       "    <tr style=\"text-align: right;\">\n",
       "      <th></th>\n",
       "      <th>id</th>\n",
       "      <th>spacegroup</th>\n",
       "      <th>number_of_total_atoms</th>\n",
       "      <th>percent_atom_al</th>\n",
       "      <th>percent_atom_ga</th>\n",
       "      <th>percent_atom_in</th>\n",
       "      <th>lattice_vector_1_ang</th>\n",
       "      <th>lattice_vector_2_ang</th>\n",
       "      <th>lattice_vector_3_ang</th>\n",
       "      <th>lattice_angle_alpha_degree</th>\n",
       "      <th>lattice_angle_beta_degree</th>\n",
       "      <th>lattice_angle_gamma_degree</th>\n",
       "      <th>formation_energy_ev_natom</th>\n",
       "      <th>bandgap_energy_ev</th>\n",
       "    </tr>\n",
       "  </thead>\n",
       "  <tbody>\n",
       "    <tr>\n",
       "      <th>0</th>\n",
       "      <td>1</td>\n",
       "      <td>33</td>\n",
       "      <td>80.0</td>\n",
       "      <td>0.6250</td>\n",
       "      <td>0.3750</td>\n",
       "      <td>0.000</td>\n",
       "      <td>9.9523</td>\n",
       "      <td>8.5513</td>\n",
       "      <td>9.1775</td>\n",
       "      <td>90.0026</td>\n",
       "      <td>90.0023</td>\n",
       "      <td>90.0017</td>\n",
       "      <td>0.0680</td>\n",
       "      <td>3.4387</td>\n",
       "    </tr>\n",
       "    <tr>\n",
       "      <th>1</th>\n",
       "      <td>2</td>\n",
       "      <td>194</td>\n",
       "      <td>80.0</td>\n",
       "      <td>0.6250</td>\n",
       "      <td>0.3750</td>\n",
       "      <td>0.000</td>\n",
       "      <td>6.1840</td>\n",
       "      <td>6.1838</td>\n",
       "      <td>23.6287</td>\n",
       "      <td>90.0186</td>\n",
       "      <td>89.9980</td>\n",
       "      <td>120.0025</td>\n",
       "      <td>0.2490</td>\n",
       "      <td>2.9210</td>\n",
       "    </tr>\n",
       "    <tr>\n",
       "      <th>2</th>\n",
       "      <td>3</td>\n",
       "      <td>227</td>\n",
       "      <td>40.0</td>\n",
       "      <td>0.8125</td>\n",
       "      <td>0.1875</td>\n",
       "      <td>0.000</td>\n",
       "      <td>9.7510</td>\n",
       "      <td>5.6595</td>\n",
       "      <td>13.9630</td>\n",
       "      <td>90.9688</td>\n",
       "      <td>91.1228</td>\n",
       "      <td>30.5185</td>\n",
       "      <td>0.1821</td>\n",
       "      <td>2.7438</td>\n",
       "    </tr>\n",
       "    <tr>\n",
       "      <th>3</th>\n",
       "      <td>4</td>\n",
       "      <td>167</td>\n",
       "      <td>30.0</td>\n",
       "      <td>0.7500</td>\n",
       "      <td>0.0000</td>\n",
       "      <td>0.250</td>\n",
       "      <td>5.0036</td>\n",
       "      <td>5.0034</td>\n",
       "      <td>13.5318</td>\n",
       "      <td>89.9888</td>\n",
       "      <td>90.0119</td>\n",
       "      <td>120.0017</td>\n",
       "      <td>0.2172</td>\n",
       "      <td>3.3492</td>\n",
       "    </tr>\n",
       "    <tr>\n",
       "      <th>4</th>\n",
       "      <td>5</td>\n",
       "      <td>194</td>\n",
       "      <td>80.0</td>\n",
       "      <td>0.0000</td>\n",
       "      <td>0.6250</td>\n",
       "      <td>0.375</td>\n",
       "      <td>6.6614</td>\n",
       "      <td>6.6612</td>\n",
       "      <td>24.5813</td>\n",
       "      <td>89.9960</td>\n",
       "      <td>90.0006</td>\n",
       "      <td>119.9893</td>\n",
       "      <td>0.0505</td>\n",
       "      <td>1.3793</td>\n",
       "    </tr>\n",
       "    <tr>\n",
       "      <th>5</th>\n",
       "      <td>6</td>\n",
       "      <td>227</td>\n",
       "      <td>40.0</td>\n",
       "      <td>0.5625</td>\n",
       "      <td>0.4375</td>\n",
       "      <td>0.000</td>\n",
       "      <td>9.8456</td>\n",
       "      <td>5.7176</td>\n",
       "      <td>14.1244</td>\n",
       "      <td>91.1235</td>\n",
       "      <td>91.3033</td>\n",
       "      <td>30.5730</td>\n",
       "      <td>0.2209</td>\n",
       "      <td>2.1633</td>\n",
       "    </tr>\n",
       "    <tr>\n",
       "      <th>6</th>\n",
       "      <td>7</td>\n",
       "      <td>206</td>\n",
       "      <td>80.0</td>\n",
       "      <td>0.0312</td>\n",
       "      <td>0.0938</td>\n",
       "      <td>0.875</td>\n",
       "      <td>10.1664</td>\n",
       "      <td>10.1664</td>\n",
       "      <td>10.1666</td>\n",
       "      <td>90.0009</td>\n",
       "      <td>90.0008</td>\n",
       "      <td>89.9987</td>\n",
       "      <td>0.0562</td>\n",
       "      <td>0.9854</td>\n",
       "    </tr>\n",
       "    <tr>\n",
       "      <th>7</th>\n",
       "      <td>8</td>\n",
       "      <td>12</td>\n",
       "      <td>20.0</td>\n",
       "      <td>0.5000</td>\n",
       "      <td>0.0000</td>\n",
       "      <td>0.500</td>\n",
       "      <td>12.1350</td>\n",
       "      <td>3.1533</td>\n",
       "      <td>6.2880</td>\n",
       "      <td>89.9997</td>\n",
       "      <td>105.1790</td>\n",
       "      <td>90.0001</td>\n",
       "      <td>0.2243</td>\n",
       "      <td>1.7179</td>\n",
       "    </tr>\n",
       "    <tr>\n",
       "      <th>8</th>\n",
       "      <td>9</td>\n",
       "      <td>206</td>\n",
       "      <td>80.0</td>\n",
       "      <td>0.5312</td>\n",
       "      <td>0.2188</td>\n",
       "      <td>0.250</td>\n",
       "      <td>9.4027</td>\n",
       "      <td>9.4023</td>\n",
       "      <td>9.4025</td>\n",
       "      <td>90.0025</td>\n",
       "      <td>90.0030</td>\n",
       "      <td>89.9978</td>\n",
       "      <td>0.2193</td>\n",
       "      <td>2.6257</td>\n",
       "    </tr>\n",
       "    <tr>\n",
       "      <th>9</th>\n",
       "      <td>10</td>\n",
       "      <td>194</td>\n",
       "      <td>80.0</td>\n",
       "      <td>0.4062</td>\n",
       "      <td>0.5938</td>\n",
       "      <td>0.000</td>\n",
       "      <td>6.2520</td>\n",
       "      <td>6.2520</td>\n",
       "      <td>23.7931</td>\n",
       "      <td>90.0172</td>\n",
       "      <td>89.9994</td>\n",
       "      <td>119.9997</td>\n",
       "      <td>0.1994</td>\n",
       "      <td>2.5187</td>\n",
       "    </tr>\n",
       "  </tbody>\n",
       "</table>\n",
       "</div>"
      ],
      "text/plain": [
       "   id  spacegroup  number_of_total_atoms  percent_atom_al  percent_atom_ga  \\\n",
       "0   1          33                   80.0           0.6250           0.3750   \n",
       "1   2         194                   80.0           0.6250           0.3750   \n",
       "2   3         227                   40.0           0.8125           0.1875   \n",
       "3   4         167                   30.0           0.7500           0.0000   \n",
       "4   5         194                   80.0           0.0000           0.6250   \n",
       "5   6         227                   40.0           0.5625           0.4375   \n",
       "6   7         206                   80.0           0.0312           0.0938   \n",
       "7   8          12                   20.0           0.5000           0.0000   \n",
       "8   9         206                   80.0           0.5312           0.2188   \n",
       "9  10         194                   80.0           0.4062           0.5938   \n",
       "\n",
       "   percent_atom_in  lattice_vector_1_ang  lattice_vector_2_ang  \\\n",
       "0            0.000                9.9523                8.5513   \n",
       "1            0.000                6.1840                6.1838   \n",
       "2            0.000                9.7510                5.6595   \n",
       "3            0.250                5.0036                5.0034   \n",
       "4            0.375                6.6614                6.6612   \n",
       "5            0.000                9.8456                5.7176   \n",
       "6            0.875               10.1664               10.1664   \n",
       "7            0.500               12.1350                3.1533   \n",
       "8            0.250                9.4027                9.4023   \n",
       "9            0.000                6.2520                6.2520   \n",
       "\n",
       "   lattice_vector_3_ang  lattice_angle_alpha_degree  \\\n",
       "0                9.1775                     90.0026   \n",
       "1               23.6287                     90.0186   \n",
       "2               13.9630                     90.9688   \n",
       "3               13.5318                     89.9888   \n",
       "4               24.5813                     89.9960   \n",
       "5               14.1244                     91.1235   \n",
       "6               10.1666                     90.0009   \n",
       "7                6.2880                     89.9997   \n",
       "8                9.4025                     90.0025   \n",
       "9               23.7931                     90.0172   \n",
       "\n",
       "   lattice_angle_beta_degree  lattice_angle_gamma_degree  \\\n",
       "0                    90.0023                     90.0017   \n",
       "1                    89.9980                    120.0025   \n",
       "2                    91.1228                     30.5185   \n",
       "3                    90.0119                    120.0017   \n",
       "4                    90.0006                    119.9893   \n",
       "5                    91.3033                     30.5730   \n",
       "6                    90.0008                     89.9987   \n",
       "7                   105.1790                     90.0001   \n",
       "8                    90.0030                     89.9978   \n",
       "9                    89.9994                    119.9997   \n",
       "\n",
       "   formation_energy_ev_natom  bandgap_energy_ev  \n",
       "0                     0.0680             3.4387  \n",
       "1                     0.2490             2.9210  \n",
       "2                     0.1821             2.7438  \n",
       "3                     0.2172             3.3492  \n",
       "4                     0.0505             1.3793  \n",
       "5                     0.2209             2.1633  \n",
       "6                     0.0562             0.9854  \n",
       "7                     0.2243             1.7179  \n",
       "8                     0.2193             2.6257  \n",
       "9                     0.1994             2.5187  "
      ]
     },
     "execution_count": 84,
     "metadata": {},
     "output_type": "execute_result"
    }
   ],
   "source": [
    "import os\n",
    "import gc\n",
    "import numpy as np\n",
    "import pandas as pd\n",
    "import matplotlib.pyplot as plt\n",
    "import seaborn as sns\n",
    "from xgboost import XGBClassifier\n",
    "from xgboost import XGBRegressor\n",
    "from sklearn.model_selection import train_test_split\n",
    "from sklearn.metrics import  mean_squared_error\n",
    "from timeit import default_timer as timer\n",
    "from sklearn.externals import joblib\n",
    "\n",
    "from sklearn.model_selection import RandomizedSearchCV\n",
    "\n",
    "train = pd.read_csv('data/train.csv')\n",
    "test = pd.read_csv('data/test.csv')\n",
    "print(train.shape)\n",
    "\n",
    "train.isnull().values.any()\n",
    "train.head(10)\n"
   ]
  },
  {
   "cell_type": "code",
   "execution_count": 85,
   "metadata": {
    "collapsed": true
   },
   "outputs": [],
   "source": [
    "vars = list(train)\n",
    "#rint(len(vars))\n",
    "#or i in vars[1:]:\n",
    "    \n",
    "#   print(i, sorted(train[i].unique()))\n",
    " #  print('----------------------------------')\n",
    "  # print('')\n",
    "    "
   ]
  },
  {
   "cell_type": "code",
   "execution_count": 86,
   "metadata": {},
   "outputs": [],
   "source": [
    "#import seaborn as sns\n",
    "\n",
    "#f, ax = plt.subplots(figsize=(10, 8))\n",
    "#corr = train[vars[1:]].corr()\n",
    "#sns.heatmap(corr, mask=np.zeros_like(corr, dtype=np.bool), cmap=sns.diverging_palette(220, 10, as_cmap=True),\n",
    "#            square=True, ax=ax)\n",
    "#plt.show()"
   ]
  },
  {
   "cell_type": "code",
   "execution_count": 87,
   "metadata": {
    "collapsed": true
   },
   "outputs": [],
   "source": [
    "target_fe = np.log1p(train.formation_energy_ev_natom)\n",
    "target_be = np.log1p(train.bandgap_energy_ev)\n",
    "train['number_of_total_atoms']=train['number_of_total_atoms'].astype(int)\n",
    "test['number_of_total_atoms']=test['number_of_total_atoms'].astype(int)\n",
    "del train['formation_energy_ev_natom'], train['bandgap_energy_ev'], train['id'], test['id']\n"
   ]
  },
  {
   "cell_type": "code",
   "execution_count": 88,
   "metadata": {},
   "outputs": [],
   "source": [
    "train = pd.concat([train.drop(['spacegroup'], axis=1), \n",
    "                   pd.get_dummies(train['spacegroup'], prefix='SG')], axis=1)\n",
    "test = pd.concat([test.drop(['spacegroup'], axis=1), \n",
    "                   pd.get_dummies(test['spacegroup'], prefix='SG')], axis=1)\n",
    "train = pd.concat([train.drop(['number_of_total_atoms'], axis=1), \n",
    "                   pd.get_dummies(train['number_of_total_atoms'], prefix='NAT')], axis=1)\n",
    "test = pd.concat([test.drop(['number_of_total_atoms'], axis=1), \n",
    "                   pd.get_dummies(test['number_of_total_atoms'], prefix='NAT')], axis=1)\n",
    "\n",
    "# split data into train and test sets\n",
    "seed = 7\n",
    "test_size = 0.33\n",
    "X_train, X_test, y_train_fe, y_test_fe = train_test_split(train, target_fe, test_size=test_size, random_state=seed)\n",
    "X_train, X_test, y_train_be, y_test_be = train_test_split(train, target_be, test_size=test_size, random_state=seed)\n",
    "\n"
   ]
  },
  {
   "cell_type": "code",
   "execution_count": null,
   "metadata": {},
   "outputs": [],
   "source": [
    "\n",
    "#list(test)\n",
    "#print(1/np.sqrt(len(train)))\n",
    "#search for best model \n",
    "model=XGBRegressor()\n",
    "search_params = {\n",
    "    'max_depth':list(range(2,10,1)),\n",
    "    'n_estimators':list(range(10,500,10)),\n",
    "    'gamma':list(np.arange(0.,.9,.05)),\n",
    "    'min_child_weight':list(np.arange(0.1,1,.1)),\n",
    "    'colsample_bytree':list(np.arange(0.1,1,.05))\n",
    "}\n",
    "search = RandomizedSearchCV(model, search_params, n_iter=1000)\n",
    "#search.fit(X_train, y_train_be)\n",
    "search.fit(X_train, y_train_fe)\n",
    "print(search.best_params_)"
   ]
  },
  {
   "cell_type": "code",
   "execution_count": 90,
   "metadata": {},
   "outputs": [],
   "source": [
    "\n",
    "\n",
    "\n",
    "# fit model no training data\n",
    "#model = XGBClassifier(learning_rate=0.1,max_depth=6, subsample=1,min_child_weight=0.02,colsample_bytree=0.3)\n",
    "model = XGBRegressor(gamma=0.0,max_depth=3,n_estimators=150,min_child_weight=0.1,colsample_bytree=0.3)\n",
    "start = timer()\n",
    "model.fit(X_train, y_train_fe)\n",
    "#model.fit(X_train, y_train_be)\n",
    "end = timer()\n"
   ]
  },
  {
   "cell_type": "code",
   "execution_count": 91,
   "metadata": {},
   "outputs": [
    {
     "name": "stdout",
     "output_type": "stream",
     "text": [
      "executation time :  0.09118789800049854\n",
      "XGBRegressor(base_score=0.5, colsample_bylevel=1, colsample_bytree=0.3,\n",
      "       gamma=0.0, learning_rate=0.1, max_delta_step=0, max_depth=3,\n",
      "       min_child_weight=0.1, missing=None, n_estimators=150, nthread=-1,\n",
      "       objective='reg:linear', reg_alpha=0, reg_lambda=1,\n",
      "       scale_pos_weight=1, seed=0, silent=True, subsample=1)\n"
     ]
    },
    {
     "data": {
      "text/plain": [
       "['finalized_model_fe.sav']"
      ]
     },
     "execution_count": 91,
     "metadata": {},
     "output_type": "execute_result"
    }
   ],
   "source": [
    "print('executation time : ', (end - start))  \n",
    "print(model)\n",
    "filename = 'finalized_model_fe.sav'\n",
    "#filename = 'finalized_model_be.sav'\n",
    "joblib.dump(model, filename)"
   ]
  },
  {
   "cell_type": "code",
   "execution_count": 92,
   "metadata": {
    "collapsed": true
   },
   "outputs": [],
   "source": [
    "y_pred = model.predict(X_test)\n"
   ]
  },
  {
   "cell_type": "code",
   "execution_count": 93,
   "metadata": {},
   "outputs": [],
   "source": [
    "import math\n",
    "\n",
    "#A function to calculate Root Mean Squared Logarithmic Error (RMSLE)\n",
    "def rmsle(y, y_pred):\n",
    "    assert len(y) == len(y_pred)\n",
    "    terms_to_sum = [(math.log(y_pred[i] + 1) - math.log(y[i] + 1)) ** 2.0 for i,pred in enumerate(y_pred)]\n",
    "    return (sum(terms_to_sum) * (1.0/len(y))) ** 0.5"
   ]
  },
  {
   "cell_type": "code",
   "execution_count": 94,
   "metadata": {},
   "outputs": [
    {
     "name": "stdout",
     "output_type": "stream",
     "text": [
      "MSE: 0.02719%\n"
     ]
    }
   ],
   "source": [
    "\n",
    "\n",
    "accuracy = rmsle(list(y_test_fe), list(y_pred))\n",
    "#accuracy = rmsle(list(y_test_be), list(y_pred))\n",
    "print(\"MSE: %.5f%%\" % (accuracy))"
   ]
  },
  {
   "cell_type": "code",
   "execution_count": 95,
   "metadata": {},
   "outputs": [
    {
     "data": {
      "image/png": "[encoded data removed]",
      "text/plain": [
       "<matplotlib.figure.Figure at 0x7f5bf7066668>"
      ]
     },
     "metadata": {},
     "output_type": "display_data"
    }
   ],
   "source": [
    "plt.plot(y_test_fe, y_pred,'r.')\n",
    "#plt.ylim((0,0.4))\n",
    "#plt.xlim((0,0.4))\n",
    "plt.show()\n"
   ]
  },
  {
   "cell_type": "code",
   "execution_count": 97,
   "metadata": {},
   "outputs": [
    {
     "data": {
      "image/png": "[encoded data removed]",
      "text/plain": [
       "<matplotlib.figure.Figure at 0x7f5bf6fbd550>"
      ]
     },
     "metadata": {},
     "output_type": "display_data"
    },
    {
     "name": "stdout",
     "output_type": "stream",
     "text": [
      "792 792\n"
     ]
    }
   ],
   "source": [
    "plt.plot(range(0,792),y_test_fe, 'r', alpha=.5)\n",
    "plt.plot(range(0,792),y_pred, 'b', alpha=.5)\n",
    "plt.show()\n",
    "print(len(y_test), len(y_pred))"
   ]
  },
  {
   "cell_type": "code",
   "execution_count": 34,
   "metadata": {},
   "outputs": [
    {
     "ename": "NameError",
     "evalue": "name 'Y_test' is not defined",
     "output_type": "error",
     "traceback": [
      "\u001b[0;31m---------------------------------------------------------------------------\u001b[0m",
      "\u001b[0;31mNameError\u001b[0m                                 Traceback (most recent call last)",
      "\u001b[0;32m<ipython-input-34-096e17c6fe81>\u001b[0m in \u001b[0;36m<module>\u001b[0;34m()\u001b[0m\n\u001b[1;32m      1\u001b[0m \u001b[0mloaded_model\u001b[0m \u001b[0;34m=\u001b[0m \u001b[0mjoblib\u001b[0m\u001b[0;34m.\u001b[0m\u001b[0mload\u001b[0m\u001b[0;34m(\u001b[0m\u001b[0mfilename\u001b[0m\u001b[0;34m)\u001b[0m\u001b[0;34m\u001b[0m\u001b[0m\n\u001b[0;32m----> 2\u001b[0;31m \u001b[0mresult\u001b[0m \u001b[0;34m=\u001b[0m \u001b[0mloaded_model\u001b[0m\u001b[0;34m.\u001b[0m\u001b[0mscore\u001b[0m\u001b[0;34m(\u001b[0m\u001b[0mX_test\u001b[0m\u001b[0;34m,\u001b[0m \u001b[0mY_test\u001b[0m\u001b[0;34m)\u001b[0m\u001b[0;34m\u001b[0m\u001b[0m\n\u001b[0m\u001b[1;32m      3\u001b[0m \u001b[0mprint\u001b[0m\u001b[0;34m(\u001b[0m\u001b[0mresult\u001b[0m\u001b[0;34m)\u001b[0m\u001b[0;34m\u001b[0m\u001b[0m\n\u001b[1;32m      4\u001b[0m \u001b[0;34m\u001b[0m\u001b[0m\n",
      "\u001b[0;31mNameError\u001b[0m: name 'Y_test' is not defined"
     ]
    }
   ],
   "source": [
    "\n",
    "\n",
    "\n",
    "loaded_model = joblib.load(filename)\n",
    "\n",
    "\n"
   ]
  },
  {
   "cell_type": "code",
   "execution_count": null,
   "metadata": {
    "collapsed": true
   },
   "outputs": [],
   "source": []
  }
 ],
 "metadata": {
  "kernelspec": {
   "display_name": "Python 3",
   "language": "python",
   "name": "python3"
  }
 },
 "nbformat": 4,
 "nbformat_minor": 2
}
